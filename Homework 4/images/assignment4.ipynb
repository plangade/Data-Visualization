{
 "cells": [
  {
   "cell_type": "code",
   "execution_count": 456,
   "metadata": {
    "collapsed": true
   },
   "outputs": [],
   "source": [
    "import pandas as pd"
   ]
  },
  {
   "cell_type": "markdown",
   "metadata": {
    "collapsed": true
   },
   "source": [
    "Reading data from excel"
   ]
  },
  {
   "cell_type": "code",
   "execution_count": 457,
   "metadata": {
    "collapsed": true
   },
   "outputs": [],
   "source": [
    "undata_HDI=pd.read_excel(\"UNdata.xlsx\",sheetname=0)"
   ]
  },
  {
   "cell_type": "code",
   "execution_count": 458,
   "metadata": {
    "collapsed": true
   },
   "outputs": [],
   "source": [
    "undata_cont=pd.read_excel(\"UNdata.xlsx\", sheetname=5)"
   ]
  },
  {
   "cell_type": "markdown",
   "metadata": {},
   "source": [
    "Merging data from HDI sheet and cont sheet"
   ]
  },
  {
   "cell_type": "code",
   "execution_count": 459,
   "metadata": {},
   "outputs": [],
   "source": [
    "undata_final=pd.merge(undata_HDI,undata_cont,left_on=undata_HDI.iloc[:,0],right_on=undata_cont.iloc[:,0],how='inner')"
   ]
  },
  {
   "cell_type": "markdown",
   "metadata": {},
   "source": [
    "Exploring data types to see is any variable has a wrong data type"
   ]
  },
  {
   "cell_type": "code",
   "execution_count": 460,
   "metadata": {},
   "outputs": [
    {
     "data": {
      "text/plain": [
       "country          object\n",
       "HDI             float64\n",
       "LifeExp         float64\n",
       "Edu             float64\n",
       "GNI_PC            int64\n",
       "HDI_NI          float64\n",
       "Country Name     object\n",
       "CONTINENT        object\n",
       "dtype: object"
      ]
     },
     "execution_count": 460,
     "metadata": {},
     "output_type": "execute_result"
    }
   ],
   "source": [
    "undata_final.dtypes"
   ]
  },
  {
   "cell_type": "markdown",
   "metadata": {},
   "source": [
    "Changing data types as needed"
   ]
  },
  {
   "cell_type": "code",
   "execution_count": 461,
   "metadata": {
    "collapsed": true
   },
   "outputs": [],
   "source": [
    "undata_final.GNI_PC=undata_final.GNI_PC.astype('float64')"
   ]
  },
  {
   "cell_type": "code",
   "execution_count": 462,
   "metadata": {},
   "outputs": [],
   "source": [
    "undata_final.country=undata_final.country.astype('category')"
   ]
  },
  {
   "cell_type": "code",
   "execution_count": 463,
   "metadata": {},
   "outputs": [],
   "source": [
    "undata_final.CONTINENT=undata_final.CONTINENT.astype('category')"
   ]
  },
  {
   "cell_type": "code",
   "execution_count": 464,
   "metadata": {},
   "outputs": [
    {
     "data": {
      "text/plain": [
       "country         category\n",
       "HDI              float64\n",
       "LifeExp          float64\n",
       "Edu              float64\n",
       "GNI_PC           float64\n",
       "HDI_NI           float64\n",
       "Country Name      object\n",
       "CONTINENT       category\n",
       "dtype: object"
      ]
     },
     "execution_count": 464,
     "metadata": {},
     "output_type": "execute_result"
    }
   ],
   "source": [
    "undata_final.dtypes"
   ]
  },
  {
   "cell_type": "markdown",
   "metadata": {},
   "source": [
    "Adding a new column 'Edulevel' which signifies Education level"
   ]
  },
  {
   "cell_type": "code",
   "execution_count": 465,
   "metadata": {},
   "outputs": [],
   "source": [
    "undata_final['Edulevel']=undata_final['Edu'].astype('int64')"
   ]
  },
  {
   "cell_type": "code",
   "execution_count": 466,
   "metadata": {},
   "outputs": [
    {
     "data": {
      "text/plain": [
       "country         category\n",
       "HDI              float64\n",
       "LifeExp          float64\n",
       "Edu              float64\n",
       "GNI_PC           float64\n",
       "HDI_NI           float64\n",
       "Country Name      object\n",
       "CONTINENT       category\n",
       "Edulevel           int64\n",
       "dtype: object"
      ]
     },
     "execution_count": 466,
     "metadata": {},
     "output_type": "execute_result"
    }
   ],
   "source": [
    "undata_final.dtypes"
   ]
  },
  {
   "cell_type": "code",
   "execution_count": 467,
   "metadata": {
    "collapsed": true
   },
   "outputs": [],
   "source": [
    "%matplotlib inline"
   ]
  },
  {
   "cell_type": "code",
   "execution_count": 468,
   "metadata": {
    "collapsed": true
   },
   "outputs": [],
   "source": [
    "import seaborn as sns"
   ]
  },
  {
   "cell_type": "code",
   "execution_count": 469,
   "metadata": {
    "collapsed": true
   },
   "outputs": [],
   "source": [
    "import numpy as np"
   ]
  },
  {
   "cell_type": "code",
   "execution_count": 470,
   "metadata": {},
   "outputs": [
    {
     "data": {
      "text/html": [
       "<div>\n",
       "<style>\n",
       "    .dataframe thead tr:only-child th {\n",
       "        text-align: right;\n",
       "    }\n",
       "\n",
       "    .dataframe thead th {\n",
       "        text-align: left;\n",
       "    }\n",
       "\n",
       "    .dataframe tbody tr th {\n",
       "        vertical-align: top;\n",
       "    }\n",
       "</style>\n",
       "<table border=\"1\" class=\"dataframe\">\n",
       "  <thead>\n",
       "    <tr style=\"text-align: right;\">\n",
       "      <th></th>\n",
       "      <th>country</th>\n",
       "      <th>HDI</th>\n",
       "      <th>LifeExp</th>\n",
       "      <th>Edu</th>\n",
       "      <th>GNI_PC</th>\n",
       "      <th>HDI_NI</th>\n",
       "      <th>Country Name</th>\n",
       "      <th>CONTINENT</th>\n",
       "      <th>Edulevel</th>\n",
       "    </tr>\n",
       "  </thead>\n",
       "  <tbody>\n",
       "    <tr>\n",
       "      <th>0</th>\n",
       "      <td>Australia</td>\n",
       "      <td>0.938</td>\n",
       "      <td>82.0</td>\n",
       "      <td>12.0</td>\n",
       "      <td>34340.0</td>\n",
       "      <td>0.978</td>\n",
       "      <td>Australia</td>\n",
       "      <td>Australia</td>\n",
       "      <td>12</td>\n",
       "    </tr>\n",
       "    <tr>\n",
       "      <th>1</th>\n",
       "      <td>Netherlands</td>\n",
       "      <td>0.921</td>\n",
       "      <td>80.8</td>\n",
       "      <td>11.6</td>\n",
       "      <td>37282.0</td>\n",
       "      <td>0.945</td>\n",
       "      <td>Netherlands</td>\n",
       "      <td>Europe</td>\n",
       "      <td>11</td>\n",
       "    </tr>\n",
       "    <tr>\n",
       "      <th>2</th>\n",
       "      <td>Germany</td>\n",
       "      <td>0.920</td>\n",
       "      <td>80.6</td>\n",
       "      <td>12.2</td>\n",
       "      <td>35431.0</td>\n",
       "      <td>0.948</td>\n",
       "      <td>Germany</td>\n",
       "      <td>Europe</td>\n",
       "      <td>12</td>\n",
       "    </tr>\n",
       "    <tr>\n",
       "      <th>3</th>\n",
       "      <td>Ireland</td>\n",
       "      <td>0.916</td>\n",
       "      <td>80.7</td>\n",
       "      <td>11.6</td>\n",
       "      <td>28671.0</td>\n",
       "      <td>0.960</td>\n",
       "      <td>Ireland</td>\n",
       "      <td>Europe</td>\n",
       "      <td>11</td>\n",
       "    </tr>\n",
       "    <tr>\n",
       "      <th>4</th>\n",
       "      <td>Sweden</td>\n",
       "      <td>0.916</td>\n",
       "      <td>81.6</td>\n",
       "      <td>11.7</td>\n",
       "      <td>36143.0</td>\n",
       "      <td>0.940</td>\n",
       "      <td>Sweden</td>\n",
       "      <td>Europe</td>\n",
       "      <td>11</td>\n",
       "    </tr>\n",
       "  </tbody>\n",
       "</table>\n",
       "</div>"
      ],
      "text/plain": [
       "       country    HDI  LifeExp   Edu   GNI_PC  HDI_NI Country Name  CONTINENT  \\\n",
       "0    Australia  0.938     82.0  12.0  34340.0   0.978    Australia  Australia   \n",
       "1  Netherlands  0.921     80.8  11.6  37282.0   0.945  Netherlands     Europe   \n",
       "2      Germany  0.920     80.6  12.2  35431.0   0.948      Germany     Europe   \n",
       "3      Ireland  0.916     80.7  11.6  28671.0   0.960      Ireland     Europe   \n",
       "4       Sweden  0.916     81.6  11.7  36143.0   0.940       Sweden     Europe   \n",
       "\n",
       "   Edulevel  \n",
       "0        12  \n",
       "1        11  \n",
       "2        12  \n",
       "3        11  \n",
       "4        11  "
      ]
     },
     "execution_count": 470,
     "metadata": {},
     "output_type": "execute_result"
    }
   ],
   "source": [
    "undata_final.head()"
   ]
  },
  {
   "cell_type": "code",
   "execution_count": 471,
   "metadata": {},
   "outputs": [
    {
     "data": {
      "text/plain": [
       "<seaborn.axisgrid.FacetGrid at 0x1f77b4b8f28>"
      ]
     },
     "execution_count": 471,
     "metadata": {},
     "output_type": "execute_result"
    },
    {
     "data": {
      "image/png": "[encoded data removed]",
      "text/plain": [
       "<matplotlib.figure.Figure at 0x1f77776e550>"
      ]
     },
     "metadata": {},
     "output_type": "display_data"
    }
   ],
   "source": [
    "colors = [\"#9b59b6\", \"#3498db\", \"#95a5a6\", \"#e74c3c\", \"#34495e\", \"#2ecc71\",\"#ffff00\",\"#000000\"]\n",
    "a=sns.factorplot(x='CONTINENT', y='GNI_PC',hue='Edulevel', data=undata_final.iloc[:,[4,7,8]],size=5,legend_out=True,kind='swarm'\n",
    "                  ,aspect=1.5,palette=colors)\n",
    "a.set_axis_labels(\"Continents\",\"Gross National Income per Capita\")"
   ]
  },
  {
   "cell_type": "code",
   "execution_count": null,
   "metadata": {
    "collapsed": true
   },
   "outputs": [],
   "source": []
  }
 ],
 "metadata": {
  "kernelspec": {
   "display_name": "Python 3",
   "language": "python",
   "name": "python3"
  },
  "language_info": {
   "codemirror_mode": {
    "name": "ipython",
    "version": 3
   },
   "file_extension": ".py",
   "mimetype": "text/x-python",
   "name": "python",
   "nbconvert_exporter": "python",
   "pygments_lexer": "ipython3",
   "version": "3.6.3"
  }
 },
 "nbformat": 4,
 "nbformat_minor": 2
}
